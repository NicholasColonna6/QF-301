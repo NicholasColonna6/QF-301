{
 "cells": [
  {
   "cell_type": "markdown",
   "metadata": {},
   "source": [
    "# Homework 1\n",
    "### Nicholas Colonna\n",
    "\n",
    "\"I pledge my honor that I have abided by the Stevens Honor System.\" -Nicholas Colonna"
   ]
  },
  {
   "cell_type": "markdown",
   "metadata": {},
   "source": [
    "First, we will import the packages that are used in our assignment."
   ]
  },
  {
   "cell_type": "code",
   "execution_count": 1,
   "metadata": {},
   "outputs": [],
   "source": [
    "import pandas as pd\n",
    "import pylab as pl\n",
    "import numpy as np\n",
    "import re\n",
    "import os\n",
    "import statsmodels.api as sm"
   ]
  },
  {
   "cell_type": "markdown",
   "metadata": {},
   "source": [
    "Next, we modify our working directory to our file location. Once there we read in our csv data and safe it as variable df"
   ]
  },
  {
   "cell_type": "code",
   "execution_count": 2,
   "metadata": {},
   "outputs": [],
   "source": [
    "#Modify the path:\n",
    "path =\"C:/Users/colon/Desktop/Fall 2018/QF 301 Advanced Time Series Analysis/Homework1\"\n",
    "os.chdir(path)\n",
    "\n",
    "df = pd.read_csv(\"./data/credit-training.csv\")"
   ]
  },
  {
   "cell_type": "markdown",
   "metadata": {},
   "source": [
    "1. Generate a table with number of null variables by variable\n",
    "\n",
    "This function was taken from a previous lab where we did the same thing. Essentially, the function takes in our dataframe and counts all the null values for each variable. The output will show the number of nulls per variable, which are indicated under the 'false' column of the output. It can be seen that only MonthlyIncome and NumberOfDependents have null values."
   ]
  },
  {
   "cell_type": "code",
   "execution_count": 3,
   "metadata": {},
   "outputs": [
    {
     "name": "stdout",
     "output_type": "stream",
     "text": [
      "value                                  False  True \n",
      "variable                                           \n",
      "DebtRatio                             150000      0\n",
      "MonthlyIncome                         120269  29731\n",
      "NumberOfDependents                    146076   3924\n",
      "NumberOfOpenCreditLinesAndLoans       150000      0\n",
      "NumberOfTime30-59DaysPastDueNotWorse  150000      0\n",
      "NumberOfTime60-89DaysPastDueNotWorse  150000      0\n",
      "NumberOfTimes90DaysLate               150000      0\n",
      "NumberRealEstateLoansOrLines          150000      0\n",
      "RevolvingUtilizationOfUnsecuredLines  150000      0\n",
      "SeriousDlqin2yrs                      150000      0\n",
      "age                                   150000      0\n"
     ]
    }
   ],
   "source": [
    "def print_null_freq(df):\n",
    "    #for a given DataFrame, calculates how many values for each variable is null and prints the resulting table to stdout\n",
    "    df_lng = pd.melt(df)\n",
    "    null_variables = df_lng.value.isnull()\n",
    "    return pd.crosstab(df_lng.variable, null_variables)\n",
    "\n",
    "print (print_null_freq(df))"
   ]
  },
  {
   "cell_type": "markdown",
   "metadata": {},
   "source": [
    "2. Convert column names from camelCase into snake_case\n",
    "\n",
    "This function was taken from a previous lab where we did the same thing. We call the function for each variable name in df. The function locates the capital letters, adds an underscore before it, then changes the capital letter to lower case. You can see the changes below."
   ]
  },
  {
   "cell_type": "code",
   "execution_count": 4,
   "metadata": {},
   "outputs": [
    {
     "name": "stdout",
     "output_type": "stream",
     "text": [
      "Index(['SeriousDlqin2yrs', 'RevolvingUtilizationOfUnsecuredLines', 'age',\n",
      "       'NumberOfTime30-59DaysPastDueNotWorse', 'DebtRatio', 'MonthlyIncome',\n",
      "       'NumberOfOpenCreditLinesAndLoans', 'NumberOfTimes90DaysLate',\n",
      "       'NumberRealEstateLoansOrLines', 'NumberOfTime60-89DaysPastDueNotWorse',\n",
      "       'NumberOfDependents'],\n",
      "      dtype='object')\n",
      "Index(['serious_dlqin2yrs', 'revolving_utilization_of_unsecured_lines', 'age',\n",
      "       'number_of_time30-59_days_past_due_not_worse', 'debt_ratio',\n",
      "       'monthly_income', 'number_of_open_credit_lines_and_loans',\n",
      "       'number_of_times90_days_late', 'number_real_estate_loans_or_lines',\n",
      "       'number_of_time60-89_days_past_due_not_worse', 'number_of_dependents'],\n",
      "      dtype='object')\n"
     ]
    }
   ],
   "source": [
    "def camel_to_snake(column_name):\n",
    "    #converts a string that is camelCase into snake_case\n",
    "    s1 = re.sub('(.)([A-Z][a-z]+)', r'\\1_\\2', column_name)\n",
    "    return re.sub('([a-z0-9])([A-Z])', r'\\1_\\2', s1).lower()\n",
    "\n",
    "print(df.columns)\n",
    "df.columns = [camel_to_snake(col) for col in df.columns]\n",
    "print(df.columns)"
   ]
  },
  {
   "cell_type": "markdown",
   "metadata": {},
   "source": [
    "3. After exploring the dataset, count the number of cases with all the following characteristics as a single query:\n",
    "     -people 35 or older\n",
    "     -who have no been delinquent in the past 2 years\n",
    "     -who have less than 10 open credit lines/loans\n",
    "     \n",
    "First, I created a filter based off of the characteristics above. All that was needed was to reference the given characteristic and set some constraint to check for. After that, since we were only concerned with the number of cases, we print the length of the filter just created."
   ]
  },
  {
   "cell_type": "code",
   "execution_count": 5,
   "metadata": {},
   "outputs": [
    {
     "name": "stdout",
     "output_type": "stream",
     "text": [
      "\n",
      "76151\n"
     ]
    }
   ],
   "source": [
    "filter1 = (df.age >= 35) & (df.serious_dlqin2yrs == 0) & (df.number_of_open_credit_lines_and_loans < 10)\n",
    "print()\n",
    "print(len(df[filter1]))"
   ]
  },
  {
   "cell_type": "markdown",
   "metadata": {},
   "source": [
    "4. Repeat the exercise with all these restrictions as a single query:\n",
    "     -people who have been delinquent in the past 2 years\n",
    "     -are in the 90th percentile for monthly_income\n",
    "     \n",
    "Similar to the problem above, we created a filter for the characteristics we are looking for. We utilize '.quantile' as a help when we filter for monthly_income percentile. Since we are only concerned with the number of cases, we print the length of the filter just created."
   ]
  },
  {
   "cell_type": "code",
   "execution_count": 6,
   "metadata": {},
   "outputs": [
    {
     "name": "stdout",
     "output_type": "stream",
     "text": [
      "\n",
      "539\n"
     ]
    }
   ],
   "source": [
    "filter2 = (df.serious_dlqin2yrs == 1) & (df.monthly_income >= df.monthly_income.quantile(.90))\n",
    "print()\n",
    "print(len(df[filter2]))"
   ]
  },
  {
   "cell_type": "markdown",
   "metadata": {},
   "source": [
    "5. Build and describe a forecasting model of the variable SeriousDlqin2yrs using logistic regression.\n",
    "\n",
    "My first idea was to run a regression on all variables and see which were significant. To do this, I needed to remove all the NAs from the data. After that I created my variables for the regression, y for delinquincies and x for every other variable. After that, I was able to run a logistic regression on the data and produce results. With this data, we are able to analyze the significance of each variable"
   ]
  },
  {
   "cell_type": "code",
   "execution_count": 7,
   "metadata": {},
   "outputs": [
    {
     "name": "stdout",
     "output_type": "stream",
     "text": [
      "Optimization terminated successfully.\n",
      "         Current function value: 0.237361\n",
      "         Iterations 7\n",
      "                                       Results: Logit\n",
      "============================================================================================\n",
      "Model:                        Logit                     Pseudo R-squared:         0.059     \n",
      "Dependent Variable:           serious_dlqin2yrs         AIC:                      57114.2447\n",
      "Date:                         2018-09-26 12:02          BIC:                      57211.2196\n",
      "No. Observations:             120269                    Log-Likelihood:           -28547.   \n",
      "Df Model:                     9                         LL-Null:                  -30345.   \n",
      "Df Residuals:                 120259                    LLR p-value:              0.0000    \n",
      "Converged:                    1.0000                    Scale:                    1.0000    \n",
      "No. Iterations:               7.0000                                                        \n",
      "--------------------------------------------------------------------------------------------\n",
      "                                             Coef.  Std.Err.    z     P>|z|   [0.025  0.975]\n",
      "--------------------------------------------------------------------------------------------\n",
      "revolving_utilization_of_unsecured_lines    -0.0001   0.0001  -1.0338 0.3013 -0.0003  0.0001\n",
      "age                                         -0.0505   0.0006 -86.2017 0.0000 -0.0516 -0.0493\n",
      "number_of_time30-59_days_past_due_not_worse  0.4874   0.0120  40.4931 0.0000  0.4638  0.5110\n",
      "debt_ratio                                  -0.0002   0.0001  -4.0992 0.0000 -0.0003 -0.0001\n",
      "monthly_income                              -0.0001   0.0000 -15.9994 0.0000 -0.0001 -0.0000\n",
      "number_of_open_credit_lines_and_loans       -0.0197   0.0028  -7.0187 0.0000 -0.0253 -0.0142\n",
      "number_of_times90_days_late                  0.3914   0.0165  23.7275 0.0000  0.3590  0.4237\n",
      "number_real_estate_loans_or_lines            0.1214   0.0112  10.8304 0.0000  0.0994  0.1434\n",
      "number_of_time60-89_days_past_due_not_worse -0.8466   0.0192 -44.1223 0.0000 -0.8843 -0.8090\n",
      "number_of_dependents                         0.0365   0.0095   3.8271 0.0001  0.0178  0.0551\n",
      "============================================================================================\n",
      "\n"
     ]
    }
   ],
   "source": [
    "df = df.dropna()\n",
    "y = df.serious_dlqin2yrs\n",
    "x = df[['revolving_utilization_of_unsecured_lines','age','number_of_time30-59_days_past_due_not_worse','debt_ratio','monthly_income','number_of_open_credit_lines_and_loans','number_of_times90_days_late','number_real_estate_loans_or_lines','number_of_time60-89_days_past_due_not_worse','number_of_dependents']].copy()\n",
    "logit_model = sm.Logit(y,x)\n",
    "result = logit_model.fit()\n",
    "print(result.summary2())"
   ]
  },
  {
   "cell_type": "markdown",
   "metadata": {},
   "source": [
    "As seen from the results above, all of the variables, except for 'revolving_utilization_of_unsecured_lines', are significant (p<.05). Therefore, we rerun the regression with the same steps, but we remove that variable. The results of this regression show that all variables are significant (p<.05), therefore, this model seems to be a good forecaster for serious_dlqin2yrs."
   ]
  },
  {
   "cell_type": "code",
   "execution_count": 8,
   "metadata": {},
   "outputs": [
    {
     "name": "stdout",
     "output_type": "stream",
     "text": [
      "Optimization terminated successfully.\n",
      "         Current function value: 0.237367\n",
      "         Iterations 7\n",
      "                                       Results: Logit\n",
      "============================================================================================\n",
      "Model:                        Logit                     Pseudo R-squared:         0.059     \n",
      "Dependent Variable:           serious_dlqin2yrs         AIC:                      57113.7081\n",
      "Date:                         2018-09-26 12:02          BIC:                      57200.9854\n",
      "No. Observations:             120269                    Log-Likelihood:           -28548.   \n",
      "Df Model:                     8                         LL-Null:                  -30345.   \n",
      "Df Residuals:                 120260                    LLR p-value:              0.0000    \n",
      "Converged:                    1.0000                    Scale:                    1.0000    \n",
      "No. Iterations:               7.0000                                                        \n",
      "--------------------------------------------------------------------------------------------\n",
      "                                             Coef.  Std.Err.    z     P>|z|   [0.025  0.975]\n",
      "--------------------------------------------------------------------------------------------\n",
      "age                                         -0.0505   0.0006 -86.2076 0.0000 -0.0516 -0.0493\n",
      "number_of_time30-59_days_past_due_not_worse  0.4875   0.0120  40.4957 0.0000  0.4639  0.5110\n",
      "debt_ratio                                  -0.0002   0.0001  -4.1039 0.0000 -0.0003 -0.0001\n",
      "monthly_income                              -0.0001   0.0000 -16.0223 0.0000 -0.0001 -0.0000\n",
      "number_of_open_credit_lines_and_loans       -0.0197   0.0028  -7.0031 0.0000 -0.0252 -0.0142\n",
      "number_of_times90_days_late                  0.3914   0.0165  23.7298 0.0000  0.3591  0.4237\n",
      "number_real_estate_loans_or_lines            0.1213   0.0112  10.8209 0.0000  0.0993  0.1433\n",
      "number_of_time60-89_days_past_due_not_worse -0.8467   0.0192 -44.1258 0.0000 -0.8843 -0.8091\n",
      "number_of_dependents                         0.0364   0.0095   3.8247 0.0001  0.0178  0.0551\n",
      "============================================================================================\n",
      "\n"
     ]
    }
   ],
   "source": [
    "#revolving_utilization_of_unsecured_lines is not a significant variable, drop from regression\n",
    "x = df[['age','number_of_time30-59_days_past_due_not_worse','debt_ratio','monthly_income','number_of_open_credit_lines_and_loans','number_of_times90_days_late','number_real_estate_loans_or_lines','number_of_time60-89_days_past_due_not_worse','number_of_dependents']].copy()\n",
    "logit_model = sm.Logit(y,x)\n",
    "result = logit_model.fit()\n",
    "print(result.summary2())\n",
    "#All variables in this regression are significant, therefore it can be a useful forecaster"
   ]
  }
 ],
 "metadata": {
  "kernelspec": {
   "display_name": "Python 3",
   "language": "python",
   "name": "python3"
  },
  "language_info": {
   "codemirror_mode": {
    "name": "ipython",
    "version": 3
   },
   "file_extension": ".py",
   "mimetype": "text/x-python",
   "name": "python",
   "nbconvert_exporter": "python",
   "pygments_lexer": "ipython3",
   "version": "3.6.5"
  }
 },
 "nbformat": 4,
 "nbformat_minor": 2
}
