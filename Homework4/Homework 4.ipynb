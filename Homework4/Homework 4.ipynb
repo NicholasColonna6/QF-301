{
 "cells": [
  {
   "cell_type": "markdown",
   "metadata": {},
   "source": [
    "# Homework 4\n",
    "## Nicholas Colonna\n",
    "### \"I pledge my honor that I have abided by the Stevens Honor System\""
   ]
  },
  {
   "cell_type": "code",
   "execution_count": 29,
   "metadata": {},
   "outputs": [
    {
     "name": "stdout",
     "output_type": "stream",
     "text": [
      "   Unnamed: 0     crim    zn  indus  chas    nox     rm   age     dis  rad  \\\n",
      "0           1  0.00632  18.0   2.31     0  0.538  6.575  65.2  4.0900    1   \n",
      "1           2  0.02731   0.0   7.07     0  0.469  6.421  78.9  4.9671    2   \n",
      "2           3  0.02729   0.0   7.07     0  0.469  7.185  61.1  4.9671    2   \n",
      "3           4  0.03237   0.0   2.18     0  0.458  6.998  45.8  6.0622    3   \n",
      "4           5  0.06905   0.0   2.18     0  0.458  7.147  54.2  6.0622    3   \n",
      "\n",
      "   tax  ptratio   black  lstat  medv  \n",
      "0  296     15.3  396.90   4.98  24.0  \n",
      "1  242     17.8  396.90   9.14  21.6  \n",
      "2  242     17.8  392.83   4.03  34.7  \n",
      "3  222     18.7  394.63   2.94  33.4  \n",
      "4  222     18.7  396.90   5.33  36.2  \n"
     ]
    }
   ],
   "source": [
    "import pandas as pd\n",
    "import numpy as np\n",
    "import pylab as pl\n",
    "import statsmodels as sm\n",
    "import matplotlib.pyplot as plt\n",
    "import math\n",
    "import statistics as stat\n",
    "\n",
    "df = pd.read_csv(\"./Boston.csv\")\n",
    "print(df.head())"
   ]
  },
  {
   "cell_type": "markdown",
   "metadata": {},
   "source": [
    "(a) Based on this data set, provide an estimate for the population mean of medv. Call this estimate ˆμ.\n",
    "\n",
    "\n",
    "The estimate for the population mean is calculated by simply taking the sum of all medv data points and dividing it by the number of observations. This gives us an estimate of 22.5328"
   ]
  },
  {
   "cell_type": "code",
   "execution_count": 30,
   "metadata": {},
   "outputs": [
    {
     "name": "stdout",
     "output_type": "stream",
     "text": [
      "22.532806324110698\n"
     ]
    }
   ],
   "source": [
    "observations = df['medv'].count()\n",
    "\n",
    "e_mean = sum(df.medv) / observations\n",
    "print(e_mean)"
   ]
  },
  {
   "cell_type": "markdown",
   "metadata": {},
   "source": [
    "(b) Provide an estimate of the standard error (SE) of ˆμ. Interpret this result.\n",
    "Hint: We can compute the standard error of the sample mean by dividing the sample standard deviation by the square root of the number of observations.\n",
    "\n",
    "I used the formula for standard deviation to arrive at an estimate for SE of 0.4084"
   ]
  },
  {
   "cell_type": "code",
   "execution_count": 31,
   "metadata": {},
   "outputs": [
    {
     "name": "stdout",
     "output_type": "stream",
     "text": [
      "0.4084569346972867\n"
     ]
    }
   ],
   "source": [
    "sum_square = 0\n",
    "for val in df.medv:\n",
    "    sum_square = sum_square + (val - e_mean)**2\n",
    "\n",
    "sample_stdev = math.sqrt(sum_square/(observations))\n",
    "\n",
    "e_stdev = sample_stdev / math.sqrt(observations)\n",
    "print(e_stdev)"
   ]
  },
  {
   "cell_type": "markdown",
   "metadata": {},
   "source": [
    "(c) Now estimate the standard error of ˆμ using the bootstrap. How does this compare to your answer from (b)?\n",
    "Hint: You can use the following function to generate a bootstrap sample. Your solution should generate many bootstrap samples to calculate the standard error.\n",
    "\n",
    "The calculaed standard error using 500 bootstrap samples gives a value around 0.41, which is fairly close to our calculated SE from our data in part b."
   ]
  },
  {
   "cell_type": "code",
   "execution_count": 38,
   "metadata": {},
   "outputs": [
    {
     "name": "stdout",
     "output_type": "stream",
     "text": [
      "0.40718471153441654\n"
     ]
    }
   ],
   "source": [
    " def bootstrap_sample(df, column, statistic):\n",
    "        \"\"\"Compute bootstrap sample of column in dataframe df applying statistic function.\"\"\"\n",
    "        # get a random sampling of indices\n",
    "        boot_indices = np.random.choice(df.index, size=len(df), replace=True)\n",
    "        # compute a sample statistic\n",
    "        sample_stat = statistic(df[column].loc[boot_indices])\n",
    "        return sample_stat\n",
    "\n",
    "bootstrap_stdev = []\n",
    "for i in range(0,501):\n",
    "    bootstrap_stdev.append((bootstrap_sample(df, 'medv', stat.stdev))/math.sqrt(observations))\n",
    "\n",
    "bootstrap_stdev = np.mean(bootstrap_stdev)\n",
    "print(bootstrap_stdev)"
   ]
  },
  {
   "cell_type": "markdown",
   "metadata": {},
   "source": [
    "(d) Based on your bootstrap estimate from (c), provide a 95% confidence interval for the mean of medv. Compare it to the results obtained using the t test of medv. Hint: You can approximate a 95% confidence interval using the formula: ˆμ − 2SE(ˆμ), ˆμ + 2SE(ˆμ).\n",
    "\n",
    "First, I calculated the upper and lower bound of the 95% confidence interval, then I displayed it as an inequality. I also ran a t-test on the data, and generated a confidence interval. As you can see from the results, the two methods yield very similar results."
   ]
  },
  {
   "cell_type": "code",
   "execution_count": 39,
   "metadata": {},
   "outputs": [
    {
     "name": "stdout",
     "output_type": "stream",
     "text": [
      "Bootstrap 95% Confidence Interval: 21.718436901041866 < μ < 23.34717574717953\n",
      "   t-test 95% Confidence Interval: 21.729528014578587 < μ < 23.336084633642752\n"
     ]
    }
   ],
   "source": [
    "upper = e_mean + 2*bootstrap_stdev\n",
    "lower = e_mean - 2*bootstrap_stdev\n",
    "print(\"Bootstrap 95% Confidence Interval: \", lower, \" < μ < \", upper, sep='')\n",
    "\n",
    "t_test = sm.stats.weightstats.DescrStatsW(df.medv)\n",
    "t_test_ci = t_test.tconfint_mean()\n",
    "print(\"   t-test 95% Confidence Interval: \", t_test_ci[0], \" < μ < \", t_test_ci[1], sep='')"
   ]
  },
  {
   "cell_type": "markdown",
   "metadata": {},
   "source": [
    "(e) Based on this data set, provide an estimate, ˆμmed, for the median value of medv in the population.\n",
    "\n",
    "Since we have an even number of observations (506), the median will be the average between the two middle-most data points (253 and 254). Using the statistics median function, we obtain a median of 21.2."
   ]
  },
  {
   "cell_type": "code",
   "execution_count": 40,
   "metadata": {},
   "outputs": [
    {
     "name": "stdout",
     "output_type": "stream",
     "text": [
      "21.2\n"
     ]
    }
   ],
   "source": [
    "e_median = stat.median(df.medv)\n",
    "print(e_median)"
   ]
  },
  {
   "cell_type": "markdown",
   "metadata": {},
   "source": [
    "(f) We now would like to estimate the standard error of ˆμmed. Unfortunately, there is no simple formula for computing the standard error of the median. Instead, estimate the standard error of the median using the bootstrap. Comment on your findings.\n",
    "\n",
    "Using the bootstrap_sample function above, I called the function many times to generate many bootstrap samples."
   ]
  },
  {
   "cell_type": "code",
   "execution_count": 41,
   "metadata": {},
   "outputs": [
    {
     "name": "stdout",
     "output_type": "stream",
     "text": [
      "0.36450535208225204\n"
     ]
    }
   ],
   "source": [
    "bootstrap_median = []\n",
    "for i in range(0,501):\n",
    "    bootstrap_median.append(bootstrap_sample(df, 'medv', stat.median))\n",
    "\n",
    "bootstrap__med_stdev = stat.stdev(bootstrap_median)\n",
    "print(bootstrap__med_stdev)"
   ]
  },
  {
   "cell_type": "markdown",
   "metadata": {},
   "source": [
    "(g) Based on this data set, provide an estimate for the tenth percentile of medv in Boston suburbs. Call this quantity ˆμ_0.1.\n",
    "\n",
    "Using the numpy percentile function, I was able to obtain the 10th percentile of the data, which is 12.75."
   ]
  },
  {
   "cell_type": "code",
   "execution_count": 42,
   "metadata": {},
   "outputs": [
    {
     "name": "stdout",
     "output_type": "stream",
     "text": [
      "12.75\n"
     ]
    }
   ],
   "source": [
    "tenth_percentile = np.percentile(df['medv'], 10)\n",
    "print(tenth_percentile)"
   ]
  },
  {
   "cell_type": "markdown",
   "metadata": {},
   "source": [
    "(h) Use the bootstrap to estimate the standard error of ˆμ_0.1. Comment on your findings\n",
    "\n",
    "I modified the bootstrap function slightly to take in one additional parameter, which indicates the percentile we want. In addition, I had to adjust the sample_stat line to include the new variable percentile. From there, it follows the same method as previous examples, creating multiple bootstrap samples and then calculating the standard deviation from the results."
   ]
  },
  {
   "cell_type": "code",
   "execution_count": 43,
   "metadata": {},
   "outputs": [
    {
     "name": "stdout",
     "output_type": "stream",
     "text": [
      "0.5112000869934548\n"
     ]
    }
   ],
   "source": [
    "def bootstrap_sample_percentile(df, column, statistic, percentile):\n",
    "        \"\"\"Compute bootstrap sample of column in dataframe df applying statistic function.\"\"\"\n",
    "        # get a random sampling of indices\n",
    "        boot_indices = np.random.choice(df.index, size=len(df), replace=True)\n",
    "        # compute a sample statistic\n",
    "        sample_stat = statistic(df[column].loc[boot_indices], percentile)\n",
    "        return sample_stat\n",
    "    \n",
    "    \n",
    "bootstrap_tenth = []\n",
    "for i in range(0,501):\n",
    "    bootstrap_tenth.append(bootstrap_sample_percentile(df, 'medv', np.percentile, 10))\n",
    "\n",
    "bootstrap_tenth_stdev = stat.stdev(bootstrap_tenth)\n",
    "print(bootstrap_tenth_stdev)"
   ]
  }
 ],
 "metadata": {
  "kernelspec": {
   "display_name": "Python 3",
   "language": "python",
   "name": "python3"
  },
  "language_info": {
   "codemirror_mode": {
    "name": "ipython",
    "version": 3
   },
   "file_extension": ".py",
   "mimetype": "text/x-python",
   "name": "python",
   "nbconvert_exporter": "python",
   "pygments_lexer": "ipython3",
   "version": "3.6.5"
  }
 },
 "nbformat": 4,
 "nbformat_minor": 2
}
