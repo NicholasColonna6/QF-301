{
 "cells": [
  {
   "cell_type": "markdown",
   "metadata": {},
   "source": [
    "# Nicholas Colonna\n",
    "## Homework 3\n",
    "### \"I pledge my honor that I have abided by the Stevens Honor System.\" -Nicholas Colonna"
   ]
  },
  {
   "cell_type": "code",
   "execution_count": 1,
   "metadata": {},
   "outputs": [
    {
     "data": {
      "text/html": [
       "<div>\n",
       "<style scoped>\n",
       "    .dataframe tbody tr th:only-of-type {\n",
       "        vertical-align: middle;\n",
       "    }\n",
       "\n",
       "    .dataframe tbody tr th {\n",
       "        vertical-align: top;\n",
       "    }\n",
       "\n",
       "    .dataframe thead th {\n",
       "        text-align: right;\n",
       "    }\n",
       "</style>\n",
       "<table border=\"1\" class=\"dataframe\">\n",
       "  <thead>\n",
       "    <tr style=\"text-align: right;\">\n",
       "      <th></th>\n",
       "      <th>Year</th>\n",
       "      <th>Lag1</th>\n",
       "      <th>Lag2</th>\n",
       "      <th>Lag3</th>\n",
       "      <th>Lag4</th>\n",
       "      <th>Lag5</th>\n",
       "      <th>Volume</th>\n",
       "      <th>Today</th>\n",
       "      <th>Direction</th>\n",
       "    </tr>\n",
       "  </thead>\n",
       "  <tbody>\n",
       "    <tr>\n",
       "      <th>0</th>\n",
       "      <td>1990</td>\n",
       "      <td>0.816</td>\n",
       "      <td>1.572</td>\n",
       "      <td>-3.936</td>\n",
       "      <td>-0.229</td>\n",
       "      <td>-3.484</td>\n",
       "      <td>0.154976</td>\n",
       "      <td>-0.270</td>\n",
       "      <td>Down</td>\n",
       "    </tr>\n",
       "    <tr>\n",
       "      <th>1</th>\n",
       "      <td>1990</td>\n",
       "      <td>-0.270</td>\n",
       "      <td>0.816</td>\n",
       "      <td>1.572</td>\n",
       "      <td>-3.936</td>\n",
       "      <td>-0.229</td>\n",
       "      <td>0.148574</td>\n",
       "      <td>-2.576</td>\n",
       "      <td>Down</td>\n",
       "    </tr>\n",
       "    <tr>\n",
       "      <th>2</th>\n",
       "      <td>1990</td>\n",
       "      <td>-2.576</td>\n",
       "      <td>-0.270</td>\n",
       "      <td>0.816</td>\n",
       "      <td>1.572</td>\n",
       "      <td>-3.936</td>\n",
       "      <td>0.159837</td>\n",
       "      <td>3.514</td>\n",
       "      <td>Up</td>\n",
       "    </tr>\n",
       "    <tr>\n",
       "      <th>3</th>\n",
       "      <td>1990</td>\n",
       "      <td>3.514</td>\n",
       "      <td>-2.576</td>\n",
       "      <td>-0.270</td>\n",
       "      <td>0.816</td>\n",
       "      <td>1.572</td>\n",
       "      <td>0.161630</td>\n",
       "      <td>0.712</td>\n",
       "      <td>Up</td>\n",
       "    </tr>\n",
       "    <tr>\n",
       "      <th>4</th>\n",
       "      <td>1990</td>\n",
       "      <td>0.712</td>\n",
       "      <td>3.514</td>\n",
       "      <td>-2.576</td>\n",
       "      <td>-0.270</td>\n",
       "      <td>0.816</td>\n",
       "      <td>0.153728</td>\n",
       "      <td>1.178</td>\n",
       "      <td>Up</td>\n",
       "    </tr>\n",
       "  </tbody>\n",
       "</table>\n",
       "</div>"
      ],
      "text/plain": [
       "   Year   Lag1   Lag2   Lag3   Lag4   Lag5    Volume  Today Direction\n",
       "0  1990  0.816  1.572 -3.936 -0.229 -3.484  0.154976 -0.270      Down\n",
       "1  1990 -0.270  0.816  1.572 -3.936 -0.229  0.148574 -2.576      Down\n",
       "2  1990 -2.576 -0.270  0.816  1.572 -3.936  0.159837  3.514        Up\n",
       "3  1990  3.514 -2.576 -0.270  0.816  1.572  0.161630  0.712        Up\n",
       "4  1990  0.712  3.514 -2.576 -0.270  0.816  0.153728  1.178        Up"
      ]
     },
     "execution_count": 1,
     "metadata": {},
     "output_type": "execute_result"
    }
   ],
   "source": [
    "import pandas as pd\n",
    "import numpy as np\n",
    "import pylab as pl\n",
    "from sklearn.metrics import confusion_matrix\n",
    "from sklearn.metrics import classification_report\n",
    "import statsmodels.api as sm\n",
    "import statsmodels.formula.api as smf\n",
    "import matplotlib.pyplot as plt\n",
    "import statistics\n",
    "from sklearn.discriminant_analysis import LinearDiscriminantAnalysis\n",
    "from sklearn.discriminant_analysis import QuadraticDiscriminantAnalysis\n",
    "from sklearn.neighbors import KNeighborsClassifier\n",
    "\n",
    "df = pd.read_csv(\"./Weekly.csv\")\n",
    "df.head()"
   ]
  },
  {
   "cell_type": "markdown",
   "metadata": {},
   "source": [
    "1. Produce some numerical and graphical summaries of the Weekly data. Do there appear to be any patterns?\n",
    "\n",
    "You can observe through some numerical summaries that there are typically more 'Up' weeks than 'Down.' Therefore, you can see that the average weekly return is positive, although small.\n",
    "\n",
    "You can observe from the data that returns generally stay close to 0, but generally fluctuate between 5% and -5%. However, you can see that during years that there are recessions, the weekly returns become much more extreme in both directions, spanning form -20% to 15%.\n",
    "\n",
    "You can also observe that volume has increased significantly since 1990. This can be attributed to the rise of technology and electronic trading."
   ]
  },
  {
   "cell_type": "code",
   "execution_count": 2,
   "metadata": {},
   "outputs": [
    {
     "name": "stdout",
     "output_type": "stream",
     "text": [
      "Average Volume: 1.5746176255280073\n",
      "Average Return: 0.1498989898989899\n",
      "\n",
      "Number of Up Weeks: 605 (55.56%)\n",
      "Number of Down Weeks: 484 (44.44%)\n",
      "\n"
     ]
    },
    {
     "data": {
      "image/png": "[encoded data removed]",
      "text/plain": [
       "<Figure size 432x288 with 1 Axes>"
      ]
     },
     "metadata": {},
     "output_type": "display_data"
    },
    {
     "data": {
      "image/png": "[encoded data removed]",
      "text/plain": [
       "<Figure size 432x288 with 1 Axes>"
      ]
     },
     "metadata": {},
     "output_type": "display_data"
    }
   ],
   "source": [
    "print(\"Average Volume:\", statistics.mean(df['Volume']))\n",
    "print(\"Average Return:\", statistics.mean(df['Today']))\n",
    "print()\n",
    "\n",
    "num_up = 0\n",
    "num_down = 0\n",
    "for direction in df['Direction']:\n",
    "    if direction=='Up':\n",
    "        num_up+=1\n",
    "    else:\n",
    "        num_down+=1\n",
    "print(\"Number of Up Weeks: \",num_up,\" (\",round(100*num_up/(num_up+num_down),2),\"%)\", sep='')\n",
    "print(\"Number of Down Weeks: \",num_down,\" (\",round(100*num_down/(num_up+num_down),2),\"%)\", sep='')\n",
    "print()\n",
    "\n",
    "plt.figure()\n",
    "plt.plot(df['Year'], df['Today'], 'ro')\n",
    "plt.axis([1988, 2012, -20, 20])\n",
    "plt.xlabel('Year')\n",
    "plt.ylabel('Return')\n",
    "plt.title('Weekly Returns')\n",
    "plt.show()\n",
    "\n",
    "plt.figure()\n",
    "plt.plot(df['Year'], df['Volume'], 'bo')\n",
    "plt.axis([1988, 2012, -1, 10])\n",
    "plt.xlabel('Year')\n",
    "plt.ylabel('Volume')\n",
    "plt.title('Weekly Volume')\n",
    "plt.show()"
   ]
  },
  {
   "cell_type": "markdown",
   "metadata": {},
   "source": [
    "2. Use the full data set to perform a logistic regression (baseline algorithm) with Direction as the response and the five lag variables plus Volume as predictors. Use the summary function to print the results. Do any of the predictors appear to be statistically significant? If so, which ones?\n",
    "\n",
    "First, I created a new column 'Direction_ind' which assigned the value 1 if the variable 'Direction' was equal to \"Up\" and 0 if it was \"Down.\" This will allow us to run our regression.\n",
    "\n",
    "After running the regression, it is apparent that the variables Lag2 and Volume are statistically significant (p-value < 0.05)."
   ]
  },
  {
   "cell_type": "code",
   "execution_count": 3,
   "metadata": {},
   "outputs": [
    {
     "name": "stdout",
     "output_type": "stream",
     "text": [
      "Optimization terminated successfully.\n",
      "         Current function value: 0.686896\n",
      "         Iterations 4\n",
      "                           Logit Regression Results                           \n",
      "==============================================================================\n",
      "Dep. Variable:          Direction_ind   No. Observations:                 1089\n",
      "Model:                          Logit   Df Residuals:                     1083\n",
      "Method:                           MLE   Df Model:                            5\n",
      "Date:                Tue, 09 Oct 2018   Pseudo R-squ.:               9.505e-05\n",
      "Time:                        15:48:08   Log-Likelihood:                -748.03\n",
      "converged:                       True   LL-Null:                       -748.10\n",
      "                                        LLR p-value:                    0.9996\n",
      "==============================================================================\n",
      "                 coef    std err          z      P>|z|      [0.025      0.975]\n",
      "------------------------------------------------------------------------------\n",
      "Lag1          -0.0327      0.026     -1.250      0.211      -0.084       0.019\n",
      "Lag2           0.0682      0.027      2.556      0.011       0.016       0.120\n",
      "Lag3          -0.0081      0.026     -0.306      0.759      -0.060       0.044\n",
      "Lag4          -0.0194      0.026     -0.740      0.459      -0.071       0.032\n",
      "Lag5          -0.0069      0.026     -0.261      0.794      -0.058       0.045\n",
      "Volume         0.0569      0.027      2.125      0.034       0.004       0.109\n",
      "==============================================================================\n"
     ]
    }
   ],
   "source": [
    "df['Direction_ind'] = (df['Direction'] == \"Up\").astype(int)\n",
    "\n",
    "y = df['Direction_ind']\n",
    "X = df[['Lag1', 'Lag2', 'Lag3', 'Lag4', 'Lag5', 'Volume']]\n",
    "\n",
    "logistic_reg = sm.Logit(y, X).fit()\n",
    "print(logistic_reg.summary())"
   ]
  },
  {
   "cell_type": "markdown",
   "metadata": {},
   "source": [
    "3. Compute the confusion matrix and overall fraction of correct predictions. Explain what the confusion matrix is telling you about the types of mistakes made by logistic regression.\n",
    "\n",
    "As you can see from the confusion matrix, there are 172 data points where the model correctly predicted Down. There were also 427 times when the model correctly predicted Up. However, you will notice that there were 312 times when the model falsely identified Up when the true data was Down, and also 178 times when the model falsely identified Down when the true data was Up. With the large amount of misclassification, it leads me to believe that this model does a poor job of differentiating points that are close to zero."
   ]
  },
  {
   "cell_type": "code",
   "execution_count": 4,
   "metadata": {},
   "outputs": [
    {
     "name": "stdout",
     "output_type": "stream",
     "text": [
      "             Predicted Down  Predicted Up\n",
      "Actual Down             172           312\n",
      "Actual Up               178           427\n",
      "\n",
      "             precision    recall  f1-score   support\n",
      "\n",
      "       Down     0.4914    0.3554    0.4125       484\n",
      "         Up     0.5778    0.7058    0.6354       605\n",
      "\n",
      "avg / total     0.5394    0.5500    0.5363      1089\n",
      "\n"
     ]
    }
   ],
   "source": [
    "direct_predict = logistic_reg.predict()\n",
    "predict_classify = [\"Up\" if x>0.5 else \"Down\" for x in direct_predict]\n",
    "conf_all = pd.DataFrame(confusion_matrix(df['Direction'], predict_classify))\n",
    "conf_all = conf_all.rename(index={0:'Actual Down', 1:'Actual Up'}, columns={0:'Predicted Down', 1:'Predicted Up'})\n",
    "print(conf_all)\n",
    "print()\n",
    "print(classification_report(df['Direction'], predict_classify, digits=4))"
   ]
  },
  {
   "cell_type": "markdown",
   "metadata": {},
   "source": [
    "4. Now fit the logistic regression model using a training data period from 1990 to 2008, with Lag2 as the only predictor. Compute the confusion matrix and the overall fraction of correct predictions for the held out data (that is, the data from 2009 and 2010).\n",
    "\n",
    "We observe that the p-value for Lag2 is significant at predicting the Direction of our returns from 1990 to 2008. Once we apply that model to our test data, from 2009 to 2010, we were able to see how well our model is at predicting. The model correctly classified 57 data points and falsely classified 47. Again, this model isn't great at predicting points close to zero."
   ]
  },
  {
   "cell_type": "code",
   "execution_count": 5,
   "metadata": {
    "scrolled": true
   },
   "outputs": [
    {
     "name": "stdout",
     "output_type": "stream",
     "text": [
      "Optimization terminated successfully.\n",
      "         Current function value: 0.690654\n",
      "         Iterations 4\n",
      "                           Logit Regression Results                           \n",
      "==============================================================================\n",
      "Dep. Variable:          Direction_ind   No. Observations:                  985\n",
      "Model:                          Logit   Df Residuals:                      984\n",
      "Method:                           MLE   Df Model:                            0\n",
      "Date:                Tue, 09 Oct 2018   Pseudo R-squ.:               -0.004340\n",
      "Time:                        15:48:12   Log-Likelihood:                -680.29\n",
      "converged:                       True   LL-Null:                       -677.35\n",
      "                                        LLR p-value:                       nan\n",
      "==============================================================================\n",
      "                 coef    std err          z      P>|z|      [0.025      0.975]\n",
      "------------------------------------------------------------------------------\n",
      "Lag2           0.0629      0.029      2.192      0.028       0.007       0.119\n",
      "==============================================================================\n",
      "\n",
      "             Predicted Down  Predicted Up\n",
      "Actual Down              20            23\n",
      "Actual Up                24            37\n",
      "\n",
      "             precision    recall  f1-score   support\n",
      "\n",
      "       Down     0.4545    0.4651    0.4598        43\n",
      "         Up     0.6167    0.6066    0.6116        61\n",
      "\n",
      "avg / total     0.5496    0.5481    0.5488       104\n",
      "\n"
     ]
    }
   ],
   "source": [
    "trained_logit = sm.Logit(df[:-104]['Direction_ind'], df[:-104]['Lag2']).fit()\n",
    "print(trained_logit.summary())\n",
    "print()\n",
    "\n",
    "logit_predict = trained_logit.predict(df[-104:]['Lag2'])\n",
    "logit_predict_classify = [\"Up\" if x>0.5 else \"Down\" for x in logit_predict]\n",
    "conf_logit = pd.DataFrame(confusion_matrix(df[-104:]['Direction'], logit_predict_classify))\n",
    "conf_logit = conf_logit.rename(index={0:'Actual Down', 1:'Actual Up'}, columns={0:'Predicted Down', 1:'Predicted Up'})\n",
    "print(conf_logit)\n",
    "print()\n",
    "print(classification_report(df[-104:]['Direction'], logit_predict_classify, digits=4))"
   ]
  },
  {
   "cell_type": "markdown",
   "metadata": {},
   "source": [
    "5. Repeat (d) using linear discriminant analysis (LDA). This method uses the Bayes classifier with a Gaussian distribution. Even though the discriminant functions are linear functions of the inputs (x), the combination of several classifiers may lead to classification of non-linear problems.\n",
    "\n",
    "After generating a confusion matrix for our LDA, we obtained interesting results. The model correctly classified 9 Down data points and 56 Up points, however, it misclassified 34 Down data points as Up and 5 Up data points as Down. It appears that the LDA model classified a majority of our data as Up, which led to a lot of misclassification and a low recall score for down. However, this model correctly predicted 65 directions in comparison to the logistic model's 57, and had a higher avg/total precision, recall and f1-score, therefore it may be a better model."
   ]
  },
  {
   "cell_type": "code",
   "execution_count": 6,
   "metadata": {},
   "outputs": [
    {
     "name": "stdout",
     "output_type": "stream",
     "text": [
      "             Predicted Down  Predicted Up\n",
      "Actual Down               9            34\n",
      "Actual Up                 5            56\n",
      "\n",
      "             precision    recall  f1-score   support\n",
      "\n",
      "       Down     0.6429    0.2093    0.3158        43\n",
      "         Up     0.6222    0.9180    0.7417        61\n",
      "\n",
      "avg / total     0.6308    0.6250    0.5656       104\n",
      "\n"
     ]
    }
   ],
   "source": [
    "trained_lag2 = np.array(df[:-104]['Lag2'])\n",
    "out_lag2 = np.array(df[-104:]['Lag2'])\n",
    "trained_lda = LinearDiscriminantAnalysis().fit(trained_lag2.reshape(-1,1), df[:-104]['Direction_ind'])\n",
    "\n",
    "lda_predict = trained_lda.predict(out_lag2.reshape(-1,1))\n",
    "lda_predict_classify = [\"Up\" if x>0.5 else \"Down\" for x in lda_predict]\n",
    "conf_lda = pd.DataFrame(confusion_matrix(df[-104:]['Direction'], lda_predict_classify))\n",
    "conf_lda = conf_lda.rename(index={0:'Actual Down', 1:'Actual Up'}, columns={0:'Predicted Down', 1:'Predicted Up'})\n",
    "print(conf_lda)\n",
    "print()\n",
    "\n",
    "print(classification_report(df[-104:]['Direction'], lda_predict_classify, digits=4))"
   ]
  },
  {
   "cell_type": "markdown",
   "metadata": {},
   "source": [
    "6. Repeat (d) using quadratic discriminant analysis (QDA)\n",
    "\n",
    "The QDA model predicted that all of our future data points would be Up, and therefore accurately predicted 61 data points, but misclassified all 43 down points. For these reasons, we see a very low precision score and low f1-score. Although this model accurately predicted 61 points, since it only predicts up as our future values, it will not be a good model to use."
   ]
  },
  {
   "cell_type": "code",
   "execution_count": 7,
   "metadata": {},
   "outputs": [
    {
     "name": "stdout",
     "output_type": "stream",
     "text": [
      "             Predicted Down  Predicted Up\n",
      "Actual Down               0            43\n",
      "Actual Up                 0            61\n",
      "\n",
      "             precision    recall  f1-score   support\n",
      "\n",
      "       Down     0.0000    0.0000    0.0000        43\n",
      "         Up     0.5865    1.0000    0.7394        61\n",
      "\n",
      "avg / total     0.3440    0.5865    0.4337       104\n",
      "\n"
     ]
    },
    {
     "name": "stderr",
     "output_type": "stream",
     "text": [
      "C:\\Users\\colon\\Anaconda3\\lib\\site-packages\\sklearn\\metrics\\classification.py:1135: UndefinedMetricWarning: Precision and F-score are ill-defined and being set to 0.0 in labels with no predicted samples.\n",
      "  'precision', 'predicted', average, warn_for)\n"
     ]
    }
   ],
   "source": [
    "trained_qda = QuadraticDiscriminantAnalysis().fit(trained_lag2.reshape(-1,1), df[:-104]['Direction_ind'])\n",
    "\n",
    "qda_predict = trained_qda.predict(out_lag2.reshape(-1,1))\n",
    "qda_predict_classify = [\"Up\" if x>0.5 else \"Down\" for x in qda_predict]\n",
    "conf_qda = pd.DataFrame(confusion_matrix(df[-104:]['Direction'], qda_predict_classify))\n",
    "conf_qda = conf_qda.rename(index={0:'Actual Down', 1:'Actual Up'}, columns={0:'Predicted Down', 1:'Predicted Up'})\n",
    "print(conf_qda)\n",
    "print()\n",
    "print(classification_report(df[-104:]['Direction'], qda_predict_classify, digits=4))"
   ]
  },
  {
   "cell_type": "markdown",
   "metadata": {},
   "source": [
    "7. Repeat (d) using K-NN with K = 1.\n",
    "\n",
    "Our KNN model accurately predicted 21 Down points and 30 Up points, however, it misclassified 22 Down points as Up and 31 Up points as Down. This means the model was able to accurately predict just below 50% of our data points. This leads to a total precision, recall and f1-score around 0.5. Since these numbers are less than those of the logistic and LDA model, I would not choose the KNN model."
   ]
  },
  {
   "cell_type": "code",
   "execution_count": 8,
   "metadata": {},
   "outputs": [
    {
     "name": "stdout",
     "output_type": "stream",
     "text": [
      "             Predicted Down  Predicted Up\n",
      "Actual Down              21            22\n",
      "Actual Up                31            30\n",
      "\n",
      "             precision    recall  f1-score   support\n",
      "\n",
      "       Down     0.4038    0.4884    0.4421        43\n",
      "         Up     0.5769    0.4918    0.5310        61\n",
      "\n",
      "avg / total     0.5054    0.4904    0.4942       104\n",
      "\n"
     ]
    }
   ],
   "source": [
    "trained_knn = KNeighborsClassifier(n_neighbors=1).fit(trained_lag2.reshape(-1,1), df[:-104]['Direction_ind'])\n",
    "\n",
    "knn_predict = trained_knn.predict(out_lag2.reshape(-1,1))\n",
    "knn_predict_classify = [\"Up\" if x>0.5 else \"Down\" for x in knn_predict]\n",
    "conf_knn = pd.DataFrame(confusion_matrix(df[-104:]['Direction'], knn_predict_classify))\n",
    "conf_knn = conf_knn.rename(index={0:'Actual Down', 1:'Actual Up'}, columns={0:'Predicted Down', 1:'Predicted Up'})\n",
    "print(conf_knn)\n",
    "print()\n",
    "print(classification_report(df[-104:]['Direction'], knn_predict_classify, digits=4))"
   ]
  },
  {
   "cell_type": "markdown",
   "metadata": {},
   "source": [
    "8. Which of these methods appears to provide the best results on this data?\n",
    "\n",
    "The model with the highest avg / total for f1-score will be the one that produces the best results. After comparing all of the models, it is clear that the LDA was the best, with an f1-score of 0.5656. This means the model does decent with prediction while also having decent recall. The second best model results were from the logistical regression."
   ]
  },
  {
   "cell_type": "markdown",
   "metadata": {},
   "source": [
    "9. Experiment with different combinations of predictors, including possible transformations and interactions, for each of the methods. Report the variables, method, and associated confusion matrix that appears to provide the best results on the held out data. Note that you should also experiment with values for K in the K-NN classifier.\n",
    "\n",
    "After playing around with the various methods and variables, I arrived at 3 improved models from their original form. First, I was able to improve the logistical model by using the 3 variables Lag1, Lag2, and Lag3. This yielded a better confusion matrix and a total f1-score of 0.5699.\n",
    "\n",
    "I was able to improve the LDA model by adding the variables Lag3 and Volume to the original model of Lag2. With these new variables, the confusion matrix improved and we got a better f1-score of 0.5704. This model is better than the original LDA.\n",
    "\n",
    "Lastly, I was able to improve the KNN model and I got the best results out of all models. I used K=100 and I added the variables Lag1 and Lag3 to the orignal predictors of just Lag2. As a result, there were 63 correctly classified data points and only 41 misclassified. This yielded strong prediction and recall numbers and an improved f1-score of 0.5963."
   ]
  },
  {
   "cell_type": "code",
   "execution_count": 9,
   "metadata": {},
   "outputs": [
    {
     "name": "stdout",
     "output_type": "stream",
     "text": [
      "Optimization terminated successfully.\n",
      "         Current function value: 0.689186\n",
      "         Iterations 4\n",
      "             Predicted Down  Predicted Up\n",
      "Actual Down              23            20\n",
      "Actual Up                25            36\n",
      "\n",
      "             precision    recall  f1-score   support\n",
      "\n",
      "       Down     0.4792    0.5349    0.5055        43\n",
      "         Up     0.6429    0.5902    0.6154        61\n",
      "\n",
      "avg / total     0.5752    0.5673    0.5699       104\n",
      "\n",
      "\n",
      "\n",
      "             Predicted Down  Predicted Up\n",
      "Actual Down              24            19\n",
      "Actual Up                26            35\n",
      "\n",
      "             precision    recall  f1-score   support\n",
      "\n",
      "       Down     0.4800    0.5581    0.5161        43\n",
      "         Up     0.6481    0.5738    0.6087        61\n",
      "\n",
      "avg / total     0.5786    0.5673    0.5704       104\n",
      "\n",
      "\n",
      "\n",
      "             Predicted Down  Predicted Up\n",
      "Actual Down              18            25\n",
      "Actual Up                16            45\n",
      "\n",
      "             precision    recall  f1-score   support\n",
      "\n",
      "       Down     0.5294    0.4186    0.4675        43\n",
      "         Up     0.6429    0.7377    0.6870        61\n",
      "\n",
      "avg / total     0.5960    0.6058    0.5963       104\n",
      "\n"
     ]
    }
   ],
   "source": [
    "x2 = ['Lag1', 'Lag2', 'Lag3',]\n",
    "trained_logit2 = sm.Logit(df[:-104]['Direction_ind'], df[:-104][x2]).fit()\n",
    "\n",
    "logit_predict2 = trained_logit2.predict(df[-104:][x2])\n",
    "logit_predict2_classify = [\"Up\" if x>0.5 else \"Down\" for x in logit_predict2]\n",
    "conf_logit2 = pd.DataFrame(confusion_matrix(df[-104:]['Direction'], logit_predict2_classify))\n",
    "conf_logit2 = conf_logit2.rename(index={0:'Actual Down', 1:'Actual Up'}, columns={0:'Predicted Down', 1:'Predicted Up'})\n",
    "print(conf_logit2)\n",
    "print()\n",
    "print(classification_report(df[-104:]['Direction'], logit_predict2_classify, digits=4))\n",
    "print()\n",
    "print()\n",
    "\n",
    "\n",
    "x3 = ['Lag2', 'Lag3', 'Volume']\n",
    "trained_lda2 = LinearDiscriminantAnalysis().fit(df[:-104][x3], df[:-104]['Direction_ind'])\n",
    "\n",
    "lda_predict2 = trained_lda2.predict(df[-104:][x3])\n",
    "lda_predict2_classify = [\"Up\" if x>0.5 else \"Down\" for x in lda_predict2]\n",
    "conf_lda2 = pd.DataFrame(confusion_matrix(df[-104:]['Direction'], lda_predict2_classify))\n",
    "conf_lda2 = conf_lda2.rename(index={0:'Actual Down', 1:'Actual Up'}, columns={0:'Predicted Down', 1:'Predicted Up'})\n",
    "print(conf_lda2)\n",
    "print()\n",
    "print(classification_report(df[-104:]['Direction'], lda_predict2_classify, digits=4))\n",
    "print()\n",
    "print()\n",
    "\n",
    "\n",
    "x4 = ['Lag1','Lag2','Lag3']\n",
    "trained_knn2 = KNeighborsClassifier(n_neighbors=100).fit(df[:-104][x4], df[:-104]['Direction_ind'])\n",
    "\n",
    "knn_predict2 = trained_knn2.predict(df[-104:][x4])\n",
    "knn_predict2_classify = [\"Up\" if x>0.5 else \"Down\" for x in knn_predict2]\n",
    "conf_knn2 = pd.DataFrame(confusion_matrix(df[-104:]['Direction'], knn_predict2_classify))\n",
    "conf_knn2 = conf_knn2.rename(index={0:'Actual Down', 1:'Actual Up'}, columns={0:'Predicted Down', 1:'Predicted Up'})\n",
    "print(conf_knn2)\n",
    "print()\n",
    "print(classification_report(df[-104:]['Direction'], knn_predict2_classify, digits=4))"
   ]
  }
 ],
 "metadata": {
  "kernelspec": {
   "display_name": "Python 3",
   "language": "python",
   "name": "python3"
  },
  "language_info": {
   "codemirror_mode": {
    "name": "ipython",
    "version": 3
   },
   "file_extension": ".py",
   "mimetype": "text/x-python",
   "name": "python",
   "nbconvert_exporter": "python",
   "pygments_lexer": "ipython3",
   "version": "3.6.5"
  }
 },
 "nbformat": 4,
 "nbformat_minor": 2
}
