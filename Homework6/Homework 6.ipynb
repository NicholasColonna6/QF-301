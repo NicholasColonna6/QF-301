{
 "cells": [
  {
   "cell_type": "markdown",
   "metadata": {},
   "source": [
    "# Homework 6\n",
    "## Nicholas Colonna\n",
    "### \"I pledge my honor that I have abided by the Stevens Honor System.\" "
   ]
  },
  {
   "cell_type": "code",
   "execution_count": 3,
   "metadata": {},
   "outputs": [
    {
     "data": {
      "text/html": [
       "<div>\n",
       "<style scoped>\n",
       "    .dataframe tbody tr th:only-of-type {\n",
       "        vertical-align: middle;\n",
       "    }\n",
       "\n",
       "    .dataframe tbody tr th {\n",
       "        vertical-align: top;\n",
       "    }\n",
       "\n",
       "    .dataframe thead th {\n",
       "        text-align: right;\n",
       "    }\n",
       "</style>\n",
       "<table border=\"1\" class=\"dataframe\">\n",
       "  <thead>\n",
       "    <tr style=\"text-align: right;\">\n",
       "      <th></th>\n",
       "      <th>Unnamed: 0</th>\n",
       "      <th>AtBat</th>\n",
       "      <th>Hits</th>\n",
       "      <th>HmRun</th>\n",
       "      <th>Runs</th>\n",
       "      <th>RBI</th>\n",
       "      <th>Walks</th>\n",
       "      <th>Years</th>\n",
       "      <th>CAtBat</th>\n",
       "      <th>CHits</th>\n",
       "      <th>...</th>\n",
       "      <th>CRuns</th>\n",
       "      <th>CRBI</th>\n",
       "      <th>CWalks</th>\n",
       "      <th>League</th>\n",
       "      <th>Division</th>\n",
       "      <th>PutOuts</th>\n",
       "      <th>Assists</th>\n",
       "      <th>Errors</th>\n",
       "      <th>Salary</th>\n",
       "      <th>NewLeague</th>\n",
       "    </tr>\n",
       "  </thead>\n",
       "  <tbody>\n",
       "    <tr>\n",
       "      <th>0</th>\n",
       "      <td>-Andy Allanson</td>\n",
       "      <td>293</td>\n",
       "      <td>66</td>\n",
       "      <td>1</td>\n",
       "      <td>30</td>\n",
       "      <td>29</td>\n",
       "      <td>14</td>\n",
       "      <td>1</td>\n",
       "      <td>293</td>\n",
       "      <td>66</td>\n",
       "      <td>...</td>\n",
       "      <td>30</td>\n",
       "      <td>29</td>\n",
       "      <td>14</td>\n",
       "      <td>1</td>\n",
       "      <td>1</td>\n",
       "      <td>446</td>\n",
       "      <td>33</td>\n",
       "      <td>20</td>\n",
       "      <td>NaN</td>\n",
       "      <td>1</td>\n",
       "    </tr>\n",
       "    <tr>\n",
       "      <th>1</th>\n",
       "      <td>-Alan Ashby</td>\n",
       "      <td>315</td>\n",
       "      <td>81</td>\n",
       "      <td>7</td>\n",
       "      <td>24</td>\n",
       "      <td>38</td>\n",
       "      <td>39</td>\n",
       "      <td>14</td>\n",
       "      <td>3449</td>\n",
       "      <td>835</td>\n",
       "      <td>...</td>\n",
       "      <td>321</td>\n",
       "      <td>414</td>\n",
       "      <td>375</td>\n",
       "      <td>0</td>\n",
       "      <td>0</td>\n",
       "      <td>632</td>\n",
       "      <td>43</td>\n",
       "      <td>10</td>\n",
       "      <td>475.0</td>\n",
       "      <td>0</td>\n",
       "    </tr>\n",
       "    <tr>\n",
       "      <th>2</th>\n",
       "      <td>-Alvin Davis</td>\n",
       "      <td>479</td>\n",
       "      <td>130</td>\n",
       "      <td>18</td>\n",
       "      <td>66</td>\n",
       "      <td>72</td>\n",
       "      <td>76</td>\n",
       "      <td>3</td>\n",
       "      <td>1624</td>\n",
       "      <td>457</td>\n",
       "      <td>...</td>\n",
       "      <td>224</td>\n",
       "      <td>266</td>\n",
       "      <td>263</td>\n",
       "      <td>1</td>\n",
       "      <td>0</td>\n",
       "      <td>880</td>\n",
       "      <td>82</td>\n",
       "      <td>14</td>\n",
       "      <td>480.0</td>\n",
       "      <td>1</td>\n",
       "    </tr>\n",
       "    <tr>\n",
       "      <th>3</th>\n",
       "      <td>-Andre Dawson</td>\n",
       "      <td>496</td>\n",
       "      <td>141</td>\n",
       "      <td>20</td>\n",
       "      <td>65</td>\n",
       "      <td>78</td>\n",
       "      <td>37</td>\n",
       "      <td>11</td>\n",
       "      <td>5628</td>\n",
       "      <td>1575</td>\n",
       "      <td>...</td>\n",
       "      <td>828</td>\n",
       "      <td>838</td>\n",
       "      <td>354</td>\n",
       "      <td>0</td>\n",
       "      <td>1</td>\n",
       "      <td>200</td>\n",
       "      <td>11</td>\n",
       "      <td>3</td>\n",
       "      <td>500.0</td>\n",
       "      <td>0</td>\n",
       "    </tr>\n",
       "    <tr>\n",
       "      <th>4</th>\n",
       "      <td>-Andres Galarraga</td>\n",
       "      <td>321</td>\n",
       "      <td>87</td>\n",
       "      <td>10</td>\n",
       "      <td>39</td>\n",
       "      <td>42</td>\n",
       "      <td>30</td>\n",
       "      <td>2</td>\n",
       "      <td>396</td>\n",
       "      <td>101</td>\n",
       "      <td>...</td>\n",
       "      <td>48</td>\n",
       "      <td>46</td>\n",
       "      <td>33</td>\n",
       "      <td>0</td>\n",
       "      <td>1</td>\n",
       "      <td>805</td>\n",
       "      <td>40</td>\n",
       "      <td>4</td>\n",
       "      <td>91.5</td>\n",
       "      <td>0</td>\n",
       "    </tr>\n",
       "  </tbody>\n",
       "</table>\n",
       "<p>5 rows × 21 columns</p>\n",
       "</div>"
      ],
      "text/plain": [
       "          Unnamed: 0  AtBat  Hits  HmRun  Runs  RBI  Walks  Years  CAtBat  \\\n",
       "0     -Andy Allanson    293    66      1    30   29     14      1     293   \n",
       "1        -Alan Ashby    315    81      7    24   38     39     14    3449   \n",
       "2       -Alvin Davis    479   130     18    66   72     76      3    1624   \n",
       "3      -Andre Dawson    496   141     20    65   78     37     11    5628   \n",
       "4  -Andres Galarraga    321    87     10    39   42     30      2     396   \n",
       "\n",
       "   CHits    ...      CRuns  CRBI  CWalks  League  Division  PutOuts  Assists  \\\n",
       "0     66    ...         30    29      14       1         1      446       33   \n",
       "1    835    ...        321   414     375       0         0      632       43   \n",
       "2    457    ...        224   266     263       1         0      880       82   \n",
       "3   1575    ...        828   838     354       0         1      200       11   \n",
       "4    101    ...         48    46      33       0         1      805       40   \n",
       "\n",
       "   Errors  Salary  NewLeague  \n",
       "0      20     NaN          1  \n",
       "1      10   475.0          0  \n",
       "2      14   480.0          1  \n",
       "3       3   500.0          0  \n",
       "4       4    91.5          0  \n",
       "\n",
       "[5 rows x 21 columns]"
      ]
     },
     "execution_count": 3,
     "metadata": {},
     "output_type": "execute_result"
    }
   ],
   "source": [
    "import pandas as pd\n",
    "import numpy as np\n",
    "import pylab as pl\n",
    "import statsmodels as sm\n",
    "from sklearn import tree, metrics\n",
    "from sklearn import model_selection, linear_model\n",
    "from sklearn.neighbors import KNeighborsRegressor\n",
    "import matplotlib.pyplot as plt\n",
    "import math\n",
    "import statistics as stat\n",
    "from sklearn.ensemble import GradientBoostingRegressor, BaggingRegressor\n",
    "\n",
    "df = pd.read_csv(\"./Hitters.csv\")\n",
    "df['League'] = (df['League'] == \"A\").astype(int)\n",
    "df['Division'] = (df['Division'] == \"E\").astype(int)\n",
    "df['NewLeague'] = (df['NewLeague'] == \"A\").astype(int)\n",
    "df.head()"
   ]
  },
  {
   "cell_type": "markdown",
   "metadata": {},
   "source": [
    "(a) Remove the observations for whom the salary information is unknown, and then log-transform the salaries.\n",
    "\n",
    "I used the dropna() function to remove all unknown information from the salary column. From there, I utilized the numpy log function to perform a log transformation of salaries."
   ]
  },
  {
   "cell_type": "code",
   "execution_count": 5,
   "metadata": {},
   "outputs": [],
   "source": [
    "df = df.dropna(subset=['Salary'])\n",
    "df['Salary'] = np.log(df['Salary'])"
   ]
  },
  {
   "cell_type": "markdown",
   "metadata": {},
   "source": [
    "(b) Create a training set consisting of the first 200 observations, and a test set consisting of the remaining observations.\n",
    "\n",
    "I created the training set using the first 200 entries by indexing from 0 to 200 for df. The remaining entries were obtained by indexing from index 200 to the end of the data."
   ]
  },
  {
   "cell_type": "code",
   "execution_count": 6,
   "metadata": {},
   "outputs": [],
   "source": [
    "train = df[0:200]\n",
    "test = df[200:]"
   ]
  },
  {
   "cell_type": "markdown",
   "metadata": {},
   "source": [
    "(c) Perform boosting on the training set with 1,000 trees for a range of values of the learning rate (shrinkage parameter).\n",
    "Produce a plot with different learning rates (shrinkage values) on the x-axis and the corresponding training set MSE on the y-axis.\n",
    "\n",
    "To perform the boosting with 1000 trees, I used the function GradientBoostingRegressor and set the number of estimators to 1000. I also created a list of a broad range learning rates, which i then loop through, performing the boosting with each rate. From there, I was able to plot the MSE vs Learning Rates. As you can see, there is a steep drop in MSE between 0 and 0.1 learning rates. After that, the MSE remains very close to 0."
   ]
  },
  {
   "cell_type": "code",
   "execution_count": 7,
   "metadata": {},
   "outputs": [
    {
     "name": "stdout",
     "output_type": "stream",
     "text": [
      "Average Train MSE: 0.5651738579961072\n",
      "Minimum Train MSE: 9.704254562347785e-08 at learning rate 0.2511886431509387\n"
     ]
    },
    {
     "data": {
      "text/plain": [
       "Text(0.5,1,'Training MSE at various Learning Rates')"
      ]
     },
     "execution_count": 7,
     "metadata": {},
     "output_type": "execute_result"
    },
    {
     "data": {
      "image/png": "[encoded data removed]",
      "text/plain": [
       "<Figure size 432x288 with 1 Axes>"
      ]
     },
     "metadata": {},
     "output_type": "display_data"
    }
   ],
   "source": [
    "Y_train = train['Salary']\n",
    "X_train = train.drop(['Salary', 'Unnamed: 0'], axis=1)\n",
    "\n",
    "\n",
    "exp = np.arange(-10, -0.2, 0.1)\n",
    "lrates = 10 ** exp\n",
    "train_MSE = [None] * len(lrates)\n",
    "for i in range(0, len(lrates)):\n",
    "    boost = GradientBoostingRegressor(learning_rate=lrates[i], n_estimators=1000)\n",
    "    boost.fit(X_train, Y_train)\n",
    "    \n",
    "    bag_train_pred = boost.predict(X_train)\n",
    "    train_MSE[i] = np.mean((bag_train_pred - Y_train) ** 2)\n",
    "\n",
    "print(\"Average Train MSE: \", np.mean(train_MSE), sep='')\n",
    "print(\"Minimum Train MSE: \", min(train_MSE), \" at learning rate \", lrates[train_MSE.index(min(train_MSE))], sep='')\n",
    "\n",
    "plt.figure()\n",
    "plt.plot(lrates, train_MSE, \"ro\")\n",
    "plt.xlabel('Learning Rate')\n",
    "plt.ylabel('MSE')\n",
    "plt.title('Training MSE at various Learning Rates')"
   ]
  },
  {
   "cell_type": "markdown",
   "metadata": {},
   "source": [
    "(d) Produce a plot with different shrinkage values on the x-axis and the corresponding test set MSE on the y-axis.\n",
    "\n",
    "\n",
    "Utilizing the same learning rates as the above section, I performed the same loop with the same boosting method. The main difference here was that I predicted the test set with the boosted model. From there, I found the minimum test MSE and plotted the test MSE vs learning rates. As you can see, the test MSE is minimized around 0.2 at a learning rate around 0.004, then MSE begins increasing a bit for higher learning rates."
   ]
  },
  {
   "cell_type": "code",
   "execution_count": 8,
   "metadata": {},
   "outputs": [
    {
     "name": "stdout",
     "output_type": "stream",
     "text": [
      "Average Test MSE: 0.5019577226547259\n",
      "Minimum Test MSE: 0.20495897861846973 at learning rate 0.003981071705534725\n"
     ]
    },
    {
     "data": {
      "text/plain": [
       "Text(0.5,1,'Test MSE at various Learning Rates')"
      ]
     },
     "execution_count": 8,
     "metadata": {},
     "output_type": "execute_result"
    },
    {
     "data": {
      "image/png": "[encoded data removed]",
      "text/plain": [
       "<Figure size 432x288 with 1 Axes>"
      ]
     },
     "metadata": {},
     "output_type": "display_data"
    }
   ],
   "source": [
    "Y_test = test['Salary']\n",
    "X_test = test.drop(['Salary', 'Unnamed: 0'], axis=1)\n",
    "\n",
    "test_MSE = [None] * len(lrates)\n",
    "for i in range(0, len(lrates)):\n",
    "    boost = GradientBoostingRegressor(learning_rate=lrates[i], n_estimators=1000)\n",
    "    boost.fit(X_train, Y_train)\n",
    "    \n",
    "    bag_test_pred = boost.predict(X_test)\n",
    "    test_MSE[i] = np.mean((bag_test_pred - Y_test) ** 2)\n",
    "  \n",
    "print(\"Average Test MSE: \", np.mean(test_MSE), sep='')\n",
    "print(\"Minimum Test MSE: \", min(test_MSE), \" at learning rate \", lrates[test_MSE.index(min(test_MSE))], sep='')\n",
    "   \n",
    "plt.figure()\n",
    "plt.plot(lrates, test_MSE, \"ro\")\n",
    "plt.xlabel('Learning Rate')\n",
    "plt.ylabel('MSE')\n",
    "plt.title('Test MSE at various Learning Rates')"
   ]
  },
  {
   "cell_type": "markdown",
   "metadata": {},
   "source": [
    "(e) Compare the test MSE of boosting to the test MSE that results from applying two of the regression approaches previously studied.\n",
    "\n",
    "For my two alternative methods for regressions, I chose to run a linear regression and a K-NN regression with K=20. I chose these two methods because we studied them earlier in the semester and they both add a different perspective for comparison."
   ]
  },
  {
   "cell_type": "code",
   "execution_count": 9,
   "metadata": {},
   "outputs": [
    {
     "name": "stdout",
     "output_type": "stream",
     "text": [
      "Linear Model Test MSE: 0.49179593754549306\n",
      "K-NN Model Test MSE: 0.3020928543843052\n"
     ]
    }
   ],
   "source": [
    "linear = linear_model.LinearRegression().fit(X_train, Y_train)\n",
    "linear_test_pred = linear.predict(X_test)\n",
    "linear_test_MSE = np.mean((linear_test_pred - Y_test) ** 2)\n",
    "print(\"Linear Model Test MSE:\", linear_test_MSE)\n",
    "\n",
    "knn = KNeighborsRegressor(n_neighbors=20).fit(X_train, Y_train)\n",
    "knn_test_pred = knn.predict(X_test)\n",
    "knn_test_MSE = np.mean((knn_test_pred - Y_test) ** 2)\n",
    "print(\"K-NN Model Test MSE:\", knn_test_MSE)"
   ]
  },
  {
   "cell_type": "markdown",
   "metadata": {},
   "source": [
    "(f) Which variables appear to be the most important predictors in the boosted model?\n",
    "\n",
    "After re-running the boost with the learning rate that minimized the test MSE, I used the feature_importance characteristic to find which predictors were most important to the model. As you can see, the results show that CAtBat, CHits, Years and CHmRun are the four most important predictors for our boosted model, respectively, since they have the highest importance scores."
   ]
  },
  {
   "cell_type": "code",
   "execution_count": 15,
   "metadata": {},
   "outputs": [
    {
     "name": "stdout",
     "output_type": "stream",
     "text": [
      "           importance\n",
      "CAtBat       0.184233\n",
      "CHits        0.163582\n",
      "Years        0.115894\n",
      "CHmRun       0.100999\n",
      "CRuns        0.071664\n",
      "CWalks       0.058014\n",
      "Walks        0.043872\n",
      "Hits         0.041596\n",
      "PutOuts      0.040750\n",
      "Errors       0.039747\n",
      "CRBI         0.025663\n",
      "RBI          0.024960\n",
      "AtBat        0.024551\n",
      "HmRun        0.016149\n",
      "Assists      0.014634\n",
      "NewLeague    0.013145\n",
      "Runs         0.012455\n",
      "League       0.004651\n",
      "Division     0.003441\n"
     ]
    }
   ],
   "source": [
    "boost_minMSE = GradientBoostingRegressor(learning_rate=lrates[test_MSE.index(min(test_MSE))], n_estimators=1000)\n",
    "boost_minMSE.fit(X_train, Y_train)\n",
    "\n",
    "feature_importances = pd.DataFrame(boost_minMSE.feature_importances_, index = X_train.columns, columns=['importance']).sort_values('importance', ascending=False)\n",
    "\n",
    "print(feature_importances)\n"
   ]
  },
  {
   "cell_type": "markdown",
   "metadata": {},
   "source": [
    "(g) Now apply bagging to the training set. What is the test set MSE for this approach?\n",
    "\n",
    "First, I used the BaggingRegressor function to perform bagging on the training set and fit the model. From there, I predicted the test set with the model. Finally, I calculated the MSE for the test set."
   ]
  },
  {
   "cell_type": "code",
   "execution_count": 16,
   "metadata": {},
   "outputs": [
    {
     "name": "stdout",
     "output_type": "stream",
     "text": [
      "Bagging Test MSE: 0.22681534970201192\n"
     ]
    }
   ],
   "source": [
    "bagging = BaggingRegressor(n_estimators=1000)\n",
    "bagging.fit(X_train, Y_train)\n",
    "\n",
    "bagging_test_pred = bagging.predict(X_test)\n",
    "bag_MSE = np.mean((bagging_test_pred - Y_test) ** 2)\n",
    "print('Bagging Test MSE:', bag_MSE)"
   ]
  }
 ],
 "metadata": {
  "kernelspec": {
   "display_name": "Python 3",
   "language": "python",
   "name": "python3"
  },
  "language_info": {
   "codemirror_mode": {
    "name": "ipython",
    "version": 3
   },
   "file_extension": ".py",
   "mimetype": "text/x-python",
   "name": "python",
   "nbconvert_exporter": "python",
   "pygments_lexer": "ipython3",
   "version": "3.6.5"
  }
 },
 "nbformat": 4,
 "nbformat_minor": 2
}
